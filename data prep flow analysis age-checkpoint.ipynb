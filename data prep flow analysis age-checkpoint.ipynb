{
 "cells": [
  {
   "cell_type": "markdown",
   "metadata": {
    "id": "wumaAqfh51f1"
   },
   "source": [
    "## Join mortality rates for sex, age, year and state (USMDB)"
   ]
  },
  {
   "cell_type": "code",
   "execution_count": 1,
   "metadata": {
    "id": "T8pvaTPr51f4"
   },
   "outputs": [],
   "source": [
    "use \"Z:\\Daten\\CPS\\cps_00024.dta\", clear"
   ]
  },
  {
   "cell_type": "markdown",
   "metadata": {
    "id": "fxbtMpg951f5"
   },
   "source": [
    "Remove individuals younger than 16 and older than 75 from the data set."
   ]
  },
  {
   "cell_type": "code",
   "execution_count": 6,
   "metadata": {
    "id": "8aFYw7ub51f5",
    "outputId": "f67b7b47-0149-4f5d-bc19-e559aa5c1162"
   },
   "outputs": [
    {
     "name": "stdout",
     "output_type": "stream",
     "text": [
      "(18,340,670 observations deleted)\n"
     ]
    }
   ],
   "source": [
    "keep if inrange(age, 15, 75)"
   ]
  },
  {
   "cell_type": "code",
   "execution_count": 3,
   "metadata": {
    "id": "Armos6xD51f6",
    "outputId": "50131b51-ff55-46e1-a26a-77bab41accb0"
   },
   "outputs": [],
   "source": [
    "*sort statecensus year sex age\n",
    "*keep year month cpsidp mish wtfinl age sex race bpl yrimmig citizen nativity empstat labforce occ ind durunemp durunem2 whyunemp uhrs* panlwt classwkr statecensus absent whyabsnt whyptlwk wkstat\n",
    "*save, replace"
   ]
  },
  {
   "cell_type": "code",
   "execution_count": 7,
   "metadata": {},
   "outputs": [
    {
     "name": "stdout",
     "output_type": "stream",
     "text": [
      "file Z:\\Daten\\CPS\\cps20211012.dta saved\n"
     ]
    }
   ],
   "source": [
    "save \"Z:\\Daten\\CPS\\cps20211012\""
   ]
  },
  {
   "cell_type": "code",
   "execution_count": 8,
   "metadata": {
    "id": "9RMwp7dg51f7"
   },
   "outputs": [
    {
     "name": "stdout",
     "output_type": "stream",
     "text": [
      "\n",
      "\n",
      "\n",
      "file Z:\\Daten\\USMDB\\usmdb.dta saved\n"
     ]
    }
   ],
   "source": [
    "use \"Z:\\Daten\\USMDB\\usmdb.dta\", clear\n",
    "sort statecensus year sex age\n",
    "save, replace"
   ]
  },
  {
   "cell_type": "code",
   "execution_count": 9,
   "metadata": {
    "id": "sGwPJs8751f7",
    "scrolled": true
   },
   "outputs": [
    {
     "name": "stdout",
     "output_type": "stream",
     "text": [
      "\n",
      "\n",
      "(note: variable sex was byte, now float to accommodate using data's values)\n",
      "(note: variable age was byte, now float to accommodate using data's values)\n",
      "(note: variable statecensus was byte, now float to accommodate using data's\n",
      "       values)\n",
      "(note: variable year was int, now float to accommodate using data's values)\n",
      "\n",
      "    Result                           # of obs.\n",
      "    -----------------------------------------\n",
      "    not matched                     3,095,410\n",
      "        from master                 2,680,585  (_merge==1)\n",
      "        from using                    414,825  (_merge==2)\n",
      "\n",
      "    matched                        52,698,471  (_merge==3)\n",
      "    -----------------------------------------\n"
     ]
    }
   ],
   "source": [
    "use \"Z:\\Daten\\CPS\\cps20211012.dta\"\n",
    "merge m:1 statecensus year sex age using \"Z:\\Daten\\USMDB\\usmdb.dta\""
   ]
  },
  {
   "cell_type": "code",
   "execution_count": 3,
   "metadata": {},
   "outputs": [
    {
     "name": "stdout",
     "output_type": "stream",
     "text": [
      "_merge not found\n"
     ]
    },
    {
     "name": "stderr",
     "output_type": "stream",
     "text": [
      "r(111);\n"
     ]
    },
    {
     "name": "stdout",
     "output_type": "stream",
     "text": [
      "\n"
     ]
    }
   ],
   "source": [
    "tab age if _merge == 2"
   ]
  },
  {
   "cell_type": "code",
   "execution_count": 6,
   "metadata": {
    "id": "0IR4GImu51f8"
   },
   "outputs": [
    {
     "name": "stdout",
     "output_type": "stream",
     "text": [
      "file Z:\\Daten\\CPS\\cps20211012.dta saved\n"
     ]
    }
   ],
   "source": [
    "save \"Z:\\Daten\\CPS\\cps20211012.dta\", replace"
   ]
  },
  {
   "cell_type": "code",
   "execution_count": 1,
   "metadata": {},
   "outputs": [],
   "source": [
    "use \"Z:\\Daten\\CPS\\cps20211012.dta\", clear"
   ]
  },
  {
   "cell_type": "code",
   "execution_count": 5,
   "metadata": {
    "id": "25oRHPQ151f8",
    "scrolled": true
   },
   "outputs": [
    {
     "name": "stdout",
     "output_type": "stream",
     "text": [
      "(414,825 observations deleted)\n"
     ]
    }
   ],
   "source": [
    "keep if inlist(_merge, 1, 3)"
   ]
  },
  {
   "cell_type": "code",
   "execution_count": 7,
   "metadata": {},
   "outputs": [
    {
     "name": "stdout",
     "output_type": "stream",
     "text": [
      "\n",
      "                 _merge |      Freq.     Percent        Cum.\n",
      "------------------------+-----------------------------------\n",
      "        master only (1) |  2,680,585        4.84        4.84\n",
      "            matched (3) | 52,698,471       95.16      100.00\n",
      "------------------------+-----------------------------------\n",
      "                  Total | 55,379,056      100.00\n"
     ]
    }
   ],
   "source": [
    "tab _merge"
   ]
  },
  {
   "cell_type": "code",
   "execution_count": 1,
   "metadata": {},
   "outputs": [
    {
     "name": "stdout",
     "output_type": "stream",
     "text": [
      "\n",
      "Z:\\Daten\\CPS\n",
      "\n"
     ]
    }
   ],
   "source": [
    "cd \"Z:\\Daten\\CPS\"\n",
    "use \"cps20211012.dta\", clear"
   ]
  },
  {
   "cell_type": "markdown",
   "metadata": {
    "id": "I59MWvsk51f8"
   },
   "source": [
    "## Flow calc"
   ]
  },
  {
   "cell_type": "code",
   "execution_count": null,
   "metadata": {
    "id": "DgjzH98r51f8",
    "outputId": "70c4aeef-ed88-42af-f5d2-2d093b93a164",
    "scrolled": true
   },
   "outputs": [],
   "source": [
    "/* loading data\n",
    "cd \"Z:\\Daten\\CPS\"\n",
    "use \"cps20211012.dta\", clear\n",
    "keep if (inrange(age, 15, 75)) /*& empstat ~= 0) | (empstat == 0 & age == 15)*/\n",
    "\n",
    "* create flag for redesign of survey in January 1994\n",
    "gen reset = 0\n",
    "replace reset = 1 if year==1994 & month==1\n",
    "\n",
    "save, replace\n",
    "\n",
    "* create date variable\n",
    "gen date = mdy(month, 12, year)\n",
    "format date %td\n",
    "*/\n",
    "keep cpsdip date mish sex race age\n",
    "\n",
    "* next month's age, race and sex for validation\n",
    "bysort cpsidp (date mish): gen lead_mish = mish[_n+1]\n",
    "bysort cpsidp (date mish): gen lead_age = age[_n+1] if lead_mish - mish == 1\n",
    "bysort cpsidp (date mish): gen lead_race = race[_n+1] if lead_mish - mish == 1\n",
    "bysort cpsidp (date mish): gen lead_sex = sex[_n+1] if lead_mish - mish == 1\n",
    "\n",
    "* validation\n",
    "gen linked = .m\n",
    "replace linked = 1 if lead_mish - mish == 1 & lead_race == race & lead_sex == sex & ((mish == 4 & lead_age - age >= 0 & lead_age - age <= 2) | (mish ~= 4 & lead_age - age >= 0 & lead_age - age <= 1))\n",
    "tab linked\n",
    "bysort cpsidp (mish): gen lead_linked = linked[_n+1]\n",
    "tab linked lead_linked, missing\n",
    "save check_link, replace"
   ]
  },
  {
   "cell_type": "code",
   "execution_count": null,
   "metadata": {},
   "outputs": [],
   "source": [
    "numlabel, add\n",
    "tab empstat\n",
    "\n",
    "gen armed_forces = empstat == 1\n",
    "\n",
    "save, replace"
   ]
  },
  {
   "cell_type": "code",
   "execution_count": 5,
   "metadata": {},
   "outputs": [],
   "source": [
    "drop reset"
   ]
  },
  {
   "cell_type": "code",
   "execution_count": null,
   "metadata": {
    "id": "3kdX8Wzf51f9",
    "outputId": "7d54ada0-451e-410e-d440-c45d6a739045",
    "scrolled": true
   },
   "outputs": [
    {
     "name": "stdout",
     "output_type": "stream",
     "text": [
      "\n",
      "(52491975 differences between empstat and emp2)\n",
      "\n",
      "\n",
      "\n",
      "\n",
      "file cps_20210812.dta saved\n"
     ]
    }
   ],
   "source": [
    "recode empstat (1/12 = 1) (20/22 = 2) (30/max = 3), gen(emp2)\n",
    "label define emp2 1 \"employed\" 2 \"unemployed\" 3 \"not in labor force\"\n",
    "label value emp2 emp2\n",
    "gen armed_forces = empstat == 1\n",
    "\n",
    "save \"cps_20210812.dta\", replace"
   ]
  },
  {
   "cell_type": "markdown",
   "metadata": {
    "id": "7mAREO6g51f9"
   },
   "source": [
    "q(x)      Probability of death between age x and age x+n"
   ]
  },
  {
   "cell_type": "markdown",
   "metadata": {
    "id": "N2WQ9C2b51f9"
   },
   "source": [
    "I refrain from simply removing niu, since in a significant amount of cases these states are linked to a valid preceding or following entry for empstat. Imputation might offer a solution. "
   ]
  },
  {
   "cell_type": "code",
   "execution_count": null,
   "metadata": {
    "id": "9sZorFrA51f-"
   },
   "outputs": [],
   "source": [
    "gen wmort = wtfinl * (1-qx)"
   ]
  },
  {
   "cell_type": "code",
   "execution_count": null,
   "metadata": {
    "id": "2zmtTXLo51f-",
    "outputId": "03cfa80f-441a-4aed-e080-39b2d1673370",
    "scrolled": false
   },
   "outputs": [
    {
     "name": "stdout",
     "output_type": "stream",
     "text": [
      "\n",
      "(10,593,542 missing values generated)\n",
      "\n",
      "\n"
     ]
    }
   ],
   "source": [
    "bysort cpsidp (mish): gen flow = emp2*10 + emp2[_n+1]\n",
    "label define flow 11 \"EE\" 12 \"EU\" 13 \"EN\" 21 \"UE\" 22 \"UU\" 23 \"UN\" 31 \"NE\" 32 \"NU\" 33 \"NN\" 1 \"E\" 2 \"U\" 3 \"N\" 0 \"ooo\" 10 \"Eooo\" 20 \"Uooo\" 30 \"Nooo\" \n",
    "label value flow flow"
   ]
  },
  {
   "cell_type": "code",
   "execution_count": 3,
   "metadata": {},
   "outputs": [
    {
     "name": "stdout",
     "output_type": "stream",
     "text": [
      "\n",
      "Contains data from Z:\\Daten\\CPS\\cps_20210812.dta\n",
      "  obs:    52,698,471                          \n",
      " vars:            46                          5 Oct 2021 21:47\n",
      "--------------------------------------------------------------------------------\n",
      "              storage   display    value\n",
      "variable name   type    format     label      variable label\n",
      "--------------------------------------------------------------------------------\n",
      "year            float   %8.0g                 survey year\n",
      "month           byte    %12.0g     MONTH      month\n",
      "mish            byte    %8.0g      MISH       month in sample, household level\n",
      "statecensus     float   %75.0g     STATECENSUS\n",
      "                                              state (census code)\n",
      "wtfinl          double  %12.0g                final basic weight\n",
      "cpsidp          double  %12.0g                cpsid, person record\n",
      "age             float   %23.0g     AGE        age\n",
      "sex             float   %9.0g      SEX        sex\n",
      "race            int     %58.0g     RACE       race\n",
      "bpl             long    %34.0g     BPL        birthplace\n",
      "yrimmig         int     %45.0g     YRIMMIG    year of immigration\n",
      "citizen         byte    %34.0g     CITIZEN    citizenship status\n",
      "nativity        byte    %32.0g     NATIVITY   foreign birthplace or parentage\n",
      "empstat         byte    %34.0g     EMPSTAT    employment status\n",
      "labforce        byte    %29.0g     LABFORCE   labor force status\n",
      "occ             int     %8.0g                 occupation\n",
      "ind             int     %8.0g                 industry\n",
      "classwkr        byte    %35.0g     CLASSWKR   class of worker\n",
      "uhrsworkt       int     %15.0g     UHRSWORKT\n",
      "                                              hours usually worked per week at\n",
      "                                                all jobs\n",
      "uhrswork1       int     %16.0g     UHRSWORK1\n",
      "                                              hours usually worked per week at\n",
      "                                                main job\n",
      "absent          byte    %55.0g     ABSENT     absent from work last week\n",
      "durunem2        byte    %17.0g     DURUNEM2   continuous weeks unemployed,\n",
      "                                                intervalled\n",
      "durunemp        int     %8.0g                 continuous weeks unemployed\n",
      "whyunemp        byte    %24.0g     WHYUNEMP   reason for unemployment\n",
      "whyabsnt        byte    %38.0g     WHYABSNT   reason for absence from work\n",
      "whyptlwk        int     %38.0g     WHYPTLWK   reason for working part time last\n",
      "                                                week\n",
      "wkstat          byte    %63.0g     WKSTAT     full or part time status\n",
      "panlwt          double  %12.0g                month-to-month panel weight\n",
      "reset           float   %9.0g                 \n",
      "date            float   %td                   \n",
      "lead_mish       float   %9.0g                 \n",
      "lead_age        float   %9.0g                 \n",
      "lead_race       float   %9.0g                 \n",
      "lead_sex        float   %9.0g                 \n",
      "linked          float   %9.0g                 \n",
      "lead_linked     float   %9.0g                 \n",
      "emp2            byte    %18.0g     emp2       RECODE of empstat (employment\n",
      "                                                status)\n",
      "armed_forces    float   %9.0g                 \n",
      "serial          long    %12.0g                household serial number\n",
      "hwtfinl         double  %12.0g                household weight, basic monthly\n",
      "cpsid           double  %12.0g                cpsid, household record\n",
      "asecflag        byte    %8.0g      ASECFLAG   flag for asec\n",
      "pernum          byte    %8.0g                 person number in sample unit\n",
      "lnkfw1mwt       double  %12.0g                longitudinal weight for two\n",
      "                                                adjacent months (bms only)\n",
      "_merge          byte    %23.0g     _merge     \n",
      "flow            float   %9.0g      flow       \n",
      "--------------------------------------------------------------------------------\n",
      "Sorted by: cpsidp  mish\n"
     ]
    }
   ],
   "source": [
    "describe"
   ]
  },
  {
   "cell_type": "markdown",
   "metadata": {
    "id": "PAg3oGz451f-"
   },
   "source": [
    "# STOP!\n",
    "https://cps.ipums.org/cps/cps_linking_documentation.shtml\n",
    "\n",
    "There are several redesigns to the CPS, so that some samples are not linkable across months. Remove those links!"
   ]
  },
  {
   "cell_type": "code",
   "execution_count": null,
   "metadata": {
    "id": "qy3hZe_r51f_",
    "outputId": "e20079dc-f9a0-4b01-db92-ffc221ad34a0",
    "scrolled": false
   },
   "outputs": [
    {
     "name": "stdout",
     "output_type": "stream",
     "text": [
      "\n",
      "       flow |      Freq.     Percent        Cum.\n",
      "------------+-----------------------------------\n",
      "        ooo |     51,197        0.12        0.12\n",
      "          E |      2,339        0.01        0.13\n",
      "          U |        278        0.00        0.13\n",
      "          N |        493        0.00        0.13\n",
      "       Eooo |      1,456        0.00        0.13\n",
      "         EE | 25,450,770       60.45       60.58\n",
      "         EU |    426,737        1.01       61.59\n",
      "         EN |    987,205        2.34       63.94\n",
      "       Uooo |        141        0.00       63.94\n",
      "         UE |    479,387        1.14       65.08\n",
      "         UU |    828,661        1.97       67.04\n",
      "         UN |    391,923        0.93       67.97\n",
      "       Nooo |        561        0.00       67.98\n",
      "         NE |    898,280        2.13       70.11\n",
      "         NU |    399,379        0.95       71.06\n",
      "         NN | 12,186,122       28.94      100.00\n",
      "------------+-----------------------------------\n",
      "      Total | 42,104,929      100.00\n"
     ]
    }
   ],
   "source": [
    "tab flow"
   ]
  },
  {
   "cell_type": "code",
   "execution_count": null,
   "metadata": {
    "id": "0TQuUsYb51f_"
   },
   "outputs": [],
   "source": [
    "save, replace"
   ]
  },
  {
   "cell_type": "markdown",
   "metadata": {},
   "source": [
    "https://www.econstor.eu/bitstream/10419/229653/1/GLO-DP-0781.pdf\n",
    "\n",
    "Bernhardt, Robert; Munro, David; Wolcott, Erin (2021) : How Does the\n",
    "Dramatic Rise of CPS Non-Response Impact Labor Market Indicators?, GLO Discussion Paper,\n",
    "No. 781, Global Labor Organization (GLO), Essen\n",
    "\n",
    "I follow their suggested apprach here, since there are indicators for biased labor force estimates due to non response."
   ]
  },
  {
   "cell_type": "code",
   "execution_count": 7,
   "metadata": {
    "scrolled": true
   },
   "outputs": [
    {
     "name": "stdout",
     "output_type": "stream",
     "text": [
      "\n",
      "\n",
      "\n",
      "                 employment status |      Freq.     Percent        Cum.\n",
      "-----------------------------------+-----------------------------------\n",
      "                            0. niu |     73,564        0.14        0.14\n",
      "                   1. armed forces |    132,932        0.25        0.39\n",
      "                       10. at work | 31,846,236       60.43       60.82\n",
      "12. has job, not at work last week |  1,541,120        2.92       63.75\n",
      "                    20. unemployed |  1,045,933        1.98       65.73\n",
      "21. unemployed, experienced worker |  1,050,728        1.99       67.73\n",
      "        22. unemployed, new worker |    100,183        0.19       67.92\n",
      "            30. not in labor force |     13,978        0.03       67.94\n",
      "               31. nilf, housework |  2,917,773        5.54       73.48\n",
      "          32. nilf, unable to work |  1,595,647        3.03       76.51\n",
      "                  33. nilf, school |  1,024,428        1.94       78.45\n",
      "                   34. nilf, other |  8,028,656       15.24       93.69\n",
      "     35. nilf, unpaid, lt 15 hours |      6,478        0.01       93.70\n",
      "                 36. nilf, retired |  3,320,815        6.30      100.00\n",
      "-----------------------------------+-----------------------------------\n",
      "                             Total | 52,698,471      100.00\n"
     ]
    }
   ],
   "source": [
    "numlabel, add\n",
    "tab empstat"
   ]
  },
  {
   "cell_type": "code",
   "execution_count": 9,
   "metadata": {
    "scrolled": true
   },
   "outputs": [
    {
     "name": "stdout",
     "output_type": "stream",
     "text": [
      "\n",
      "survey year |      Freq.     Percent        Cum.\n",
      "------------+-----------------------------------\n",
      "       1984 |      7,993       10.87       10.87\n",
      "       1985 |      7,584       10.31       21.17\n",
      "       1986 |      7,823       10.63       31.81\n",
      "       1987 |      7,716       10.49       42.30\n",
      "       1988 |      7,872       10.70       53.00\n",
      "       1989 |      7,402       10.06       63.06\n",
      "       1990 |      7,297        9.92       72.98\n",
      "       1991 |      7,194        9.78       82.76\n",
      "       1992 |      6,426        8.74       91.49\n",
      "       1993 |      6,256        8.50      100.00\n",
      "       2003 |          1        0.00      100.00\n",
      "------------+-----------------------------------\n",
      "      Total |     73,564      100.00\n"
     ]
    }
   ],
   "source": [
    "tab year if empstat == 0"
   ]
  },
  {
   "cell_type": "code",
   "execution_count": 13,
   "metadata": {},
   "outputs": [
    {
     "name": "stdout",
     "output_type": "stream",
     "text": [
      "\n",
      "\n",
      "\n",
      "(10,650,007 missing values generated)\n",
      "\n",
      "\n",
      "\n",
      "(10,650,007 missing values generated)\n",
      "\n",
      "\n"
     ]
    }
   ],
   "source": [
    "drop flow\n",
    "label drop flow\n",
    "bysort cpsidp (mish): gen flow = emp2*10 + emp2[_n+1] if emp2 != 0 & emp2[_n+1]\n",
    "label define flow 11 \"EE\" 12 \"EU\" 13 \"EN\" 21 \"UE\" 22 \"UU\" 23 \"UN\" 31 \"NE\" 32 \"NU\" 33 \"NN\"\n",
    "label value flow flow\n",
    "\n",
    "bysort cpsidp (mish): gen flow_r = emp2[_n-1]*10 + emp2 if emp2 != 0 & emp2[_n-1] != 0\n",
    "label define flow_r 11 \"EE\" 12 \"EU\" 13 \"EN\" 21 \"UE\" 22 \"UU\" 23 \"UN\" 31 \"NE\" 32 \"NU\" 33 \"NN\"\n",
    "label value flow_r flow_r\n"
   ]
  },
  {
   "cell_type": "code",
   "execution_count": 11,
   "metadata": {},
   "outputs": [
    {
     "name": "stdout",
     "output_type": "stream",
     "text": [
      "\n",
      "    RECODE of empstat |\n",
      "  (employment status) |      Freq.     Percent        Cum.\n",
      "----------------------+-----------------------------------\n",
      "                    0 |     73,564        0.14        0.14\n",
      "          1. employed | 33,520,288       63.61       63.75\n",
      "        2. unemployed |  2,196,844        4.17       67.92\n",
      "3. not in labor force | 16,907,775       32.08      100.00\n",
      "----------------------+-----------------------------------\n",
      "                Total | 52,698,471      100.00\n"
     ]
    }
   ],
   "source": [
    "tab emp2"
   ]
  },
  {
   "cell_type": "code",
   "execution_count": null,
   "metadata": {},
   "outputs": [],
   "source": []
  },
  {
   "cell_type": "code",
   "execution_count": null,
   "metadata": {},
   "outputs": [],
   "source": []
  },
  {
   "cell_type": "code",
   "execution_count": null,
   "metadata": {},
   "outputs": [],
   "source": []
  },
  {
   "cell_type": "code",
   "execution_count": null,
   "metadata": {},
   "outputs": [],
   "source": []
  },
  {
   "cell_type": "code",
   "execution_count": null,
   "metadata": {},
   "outputs": [],
   "source": []
  },
  {
   "cell_type": "code",
   "execution_count": null,
   "metadata": {
    "id": "XCJw5dBk51gA"
   },
   "outputs": [],
   "source": [
    "collapse (sum) n_flows = lnkfw1mwt, by(date sex age flow)"
   ]
  },
  {
   "cell_type": "code",
   "execution_count": null,
   "metadata": {
    "id": "6nB1uk1n51gB",
    "outputId": "f2250b34-a575-4f23-dfa6-2c44a1041460",
    "scrolled": true
   },
   "outputs": [
    {
     "name": "stdout",
     "output_type": "stream",
     "text": [
      "(note: file cps_flow_test.dta not found)\n",
      "file cps_flow_test.dta saved\n"
     ]
    }
   ],
   "source": [
    "save \"Z:\\Daten\\CPS\\cps_flow.dta\", replace"
   ]
  },
  {
   "cell_type": "code",
   "execution_count": null,
   "metadata": {
    "id": "OfuTwnKP51gA",
    "outputId": "de0e655b-9744-46b0-e21a-65797893ee9d",
    "scrolled": false
   },
   "outputs": [
    {
     "name": "stdout",
     "output_type": "stream",
     "text": [
      "\n",
      "(600150 differences between age and age_group)\n",
      "\n",
      "\n"
     ]
    }
   ],
   "source": [
    "recode age (15 = .) (16/25 = 1) (26/35 = 2) (36/45 = 3) (46/55 = 4) (56/65 = 5) (66/75 = 6), gen(age_group)\n",
    "label define age_group 0 \"15\" 1 \"16-25\" 2 \"26-35\" 3 \"36-45\" 4 \"46-55\" 5 \"56-65\" 6 \"66-75\"\n",
    "label value age_group age_group"
   ]
  },
  {
   "cell_type": "code",
   "execution_count": null,
   "metadata": {
    "id": "n5mjJao551gA"
   },
   "outputs": [],
   "source": [
    "collapse (sum) n_flow = n_flow, by(age_group sex date flow)"
   ]
  },
  {
   "cell_type": "code",
   "execution_count": null,
   "metadata": {},
   "outputs": [],
   "source": [
    "save \"Z:\\Daten\\CPS\\cps_flow_agegroup.dta\", replace"
   ]
  },
  {
   "cell_type": "code",
   "execution_count": null,
   "metadata": {
    "id": "pg9t3Zh451gB"
   },
   "outputs": [],
   "source": [
    "collapse (sum) n_flow = wmort, by(date sex age flow)"
   ]
  },
  {
   "cell_type": "code",
   "execution_count": null,
   "metadata": {
    "id": "inMtYFz451gB"
   },
   "outputs": [],
   "source": [
    "use \"Z:\\Daten\\CPS\\cps_flow.dta\""
   ]
  },
  {
   "cell_type": "code",
   "execution_count": null,
   "metadata": {
    "id": "pLKW2Q1T51gC",
    "outputId": "8c31ca64-40e2-406c-a331-5f050b357905"
   },
   "outputs": [
    {
     "name": "stdout",
     "output_type": "stream",
     "text": [
      "\n",
      "(600150 differences between age and age_group)\n",
      "\n",
      "\n"
     ]
    }
   ],
   "source": [
    "recode age (15 = .) (16/25 = 1) (26/35 = 2) (36/45 = 3) (46/55 = 4) (56/65 = 5) (66/75 = 6), gen(age_group)\n",
    "label define age_group 0 \"15\" 1 \"16-25\" 2 \"26-35\" 3 \"36-45\" 4 \"46-55\" 5 \"56-65\" 6 \"66-75\"\n",
    "label value age_group age_group"
   ]
  },
  {
   "cell_type": "code",
   "execution_count": null,
   "metadata": {
    "id": "RxBJXiZ-51gC"
   },
   "outputs": [],
   "source": [
    "collapse (sum) n_flow = n_flow, by(age_group sex date flow)"
   ]
  },
  {
   "cell_type": "code",
   "execution_count": null,
   "metadata": {
    "id": "_WoYhFlJ51gC",
    "outputId": "a9ca39b2-d664-4fe8-d616-0cdd3554f5b0"
   },
   "outputs": [
    {
     "name": "stdout",
     "output_type": "stream",
     "text": [
      "Z:\\Daten\\CPS\n"
     ]
    }
   ],
   "source": [
    "cd \"Z:\\Daten\\CPS\\\""
   ]
  },
  {
   "cell_type": "code",
   "execution_count": null,
   "metadata": {
    "id": "McZKn_zh51gC",
    "outputId": "6d59110b-f1ed-42c1-eb02-105cd3b3218d",
    "scrolled": false
   },
   "outputs": [
    {
     "name": "stdout",
     "output_type": "stream",
     "text": [
      "file cps_flow_agegroup.dta saved\n"
     ]
    }
   ],
   "source": [
    "save cps_flow_agegroup, replace"
   ]
  },
  {
   "cell_type": "code",
   "execution_count": null,
   "metadata": {
    "id": "VG0dAwku51gD"
   },
   "outputs": [],
   "source": [
    "bysort cpsidp (mish): gen lag_panlwt = panlwt[_n-1]\n",
    "bysort cpsidp (mish): gen lag_linked = linked[_n-1]\n",
    "bysort cpsidp (mish): gen lag_emp = emp2[_n-1] if lag_linked == 1\n",
    "\n",
    "\n",
    "\n",
    "gen flow = emp2 + lead_emp\n",
    "replace flow = emp2 + \"0\" if missing(lead_emp)\n",
    "\n",
    "\n",
    "* Exclude niu values 0 from anaysis (empstat == 0)\n",
    "\n",
    "* keep if !inlist(flow, \"00\", \"E0\", \"N0\", \"U0\")\n",
    "\n",
    "/*\n",
    "bysort date age sex flow: egen count_flows = sum(lead_panlwt)\n",
    "bysort date age flow: egen count_flows_age = sum(lead_panlwt)\n",
    "bysort date age: egen count_total_age = sum(lead_panlwt)\n",
    "gen sh_flows_age = count_flows_age / count_total_age\n",
    "*/\n",
    "\n",
    "\n",
    "* replace age by year of birth\n",
    "gen yob = year - age\n",
    "\n",
    "save \"cps_flows.dta\", replace"
   ]
  },
  {
   "cell_type": "code",
   "execution_count": null,
   "metadata": {
    "id": "eCIQWnV_51gD",
    "outputId": "e85b7e05-1dee-4ea6-bdb0-f61d732809a1"
   },
   "outputs": [
    {
     "name": "stdout",
     "output_type": "stream",
     "text": [
      "\n",
      "\n",
      "variable yob not found\n"
     ]
    },
    {
     "name": "stderr",
     "output_type": "stream",
     "text": [
      "r(111);\n",
      "r(111);\n"
     ]
    },
    {
     "name": "stdout",
     "output_type": "stream",
     "text": [
      "\n",
      "\n"
     ]
    }
   ],
   "source": [
    "use \"cps_flows.dta\"\n",
    "\n",
    "bysort date yob sex flow: egen count_flows = sum(lead_panlwt)\n",
    "bysort date yob flow: egen count_flows_yob = sum(lead_panlwt)\n",
    "bysort date yob: egen count_total_yob = sum(lead_panlwt)\n",
    "gen sh_flows_yob = count_flows_yob / count_total_yob\n",
    "\n",
    "keep if mish <= 2\n",
    "bysort yob flow: egen mean_sh_flows_yob = mean(sh_flows_yob)\n",
    "gen sh_delta_yob = sh_flows_yob - mean_sh_flows_yob \n",
    "\n",
    "\n",
    "collapse (max) sh_flows_yob = sh_flows_yob sh_delta_yob = sh_delta_yob, by (date yob flow)\n",
    "\n",
    "keep if date >= date(\"1994-01-01\", \"YMD\")\n",
    "\n",
    "save \"cps_flows_yob.dta\", replace\n"
   ]
  },
  {
   "cell_type": "code",
   "execution_count": null,
   "metadata": {
    "id": "TirGgmdv51gD"
   },
   "outputs": [],
   "source": []
  }
 ],
 "metadata": {
  "colab": {
   "name": "data prep flow analysis age.ipynb",
   "provenance": []
  },
  "kernelspec": {
   "display_name": "Stata",
   "language": "stata",
   "name": "stata"
  },
  "language_info": {
   "codemirror_mode": "stata",
   "file_extension": ".do",
   "mimetype": "text/x-stata",
   "name": "stata",
   "version": "15.1"
  }
 },
 "nbformat": 4,
 "nbformat_minor": 1
}
