{
 "cells": [
  {
   "cell_type": "code",
   "execution_count": 103,
   "metadata": {},
   "outputs": [
    {
     "name": "stdout",
     "output_type": "stream",
     "text": [
      "\n",
      "\n",
      "Z:\\Daten\\NLMS\n"
     ]
    }
   ],
   "source": [
    "clear\n",
    "cd \"Z:\\Daten\\NLMS\""
   ]
  },
  {
   "cell_type": "code",
   "execution_count": 104,
   "metadata": {
    "scrolled": true
   },
   "outputs": [
    {
     "name": "stdout",
     "output_type": "stream",
     "text": [
      "\n",
      "(43 vars, 745,162 obs)\n",
      "\n",
      "\n",
      "\n",
      "file 6c.dta saved\n"
     ]
    }
   ],
   "source": [
    "import delimited \"Z:\\Daten\\NLMS\\6c.csv\"\n",
    "gen refyear = 2002\n",
    "gen date1 = mdy(4, 1, refyear) + follow\n",
    "save 6c.dta, replace"
   ]
  },
  {
   "cell_type": "code",
   "execution_count": 105,
   "metadata": {},
   "outputs": [
    {
     "name": "stdout",
     "output_type": "stream",
     "text": [
      "\n",
      "\n",
      "Z:\\Daten\\NLMS\n",
      "\n",
      "(43 vars, 525,884 obs)\n",
      "\n",
      "\n",
      "\n",
      "file 6b.dta saved\n"
     ]
    }
   ],
   "source": [
    "clear\n",
    "cd \"Z:\\Daten\\NLMS\"\n",
    "import delimited \"Z:\\Daten\\NLMS\\6b.csv\"\n",
    "gen refyear = 1993\n",
    "gen date1 = mdy(4, 1, refyear) + follow\n",
    "save 6b.dta, replace"
   ]
  },
  {
   "cell_type": "code",
   "execution_count": 107,
   "metadata": {
    "scrolled": true
   },
   "outputs": [
    {
     "name": "stdout",
     "output_type": "stream",
     "text": [
      "\n",
      "\n",
      "Z:\\Daten\\NLMS\n",
      "\n",
      "(43 vars, 1,040,719 obs)\n",
      "\n",
      "\n",
      "\n",
      "file 6a.dta saved\n",
      "\n",
      "\n",
      "(note: file nlms6.dta not found)\n",
      "file nlms6.dta saved\n"
     ]
    }
   ],
   "source": [
    "clear\n",
    "cd \"Z:\\Daten\\NLMS\"\n",
    "import delimited \"Z:\\Daten\\NLMS\\6a.csv\"\n",
    "gen refyear = 1983\n",
    "gen date1 = mdy(4, 1, refyear) + follow\n",
    "save 6a.dta, replace\n",
    "append using \"Z:\\Daten\\NLMS\\6b.dta\" \"Z:\\Daten\\NLMS\\6c.dta\"\n",
    "save nlms6.dta, replace"
   ]
  },
  {
   "cell_type": "markdown",
   "metadata": {},
   "source": [
    "_follow_ gives information on the length of the follow-up period in days."
   ]
  },
  {
   "cell_type": "code",
   "execution_count": 138,
   "metadata": {
    "scrolled": true
   },
   "outputs": [
    {
     "name": "stdout",
     "output_type": "stream",
     "text": [
      "\n",
      "\n",
      "\n",
      "    refyear |      Freq.     Percent        Cum.\n",
      "------------+-----------------------------------\n",
      "       1983 |  1,040,719       45.02       45.02\n",
      "       1993 |    525,884       22.75       67.77\n",
      "       2002 |    745,162       32.23      100.00\n",
      "------------+-----------------------------------\n",
      "      Total |  2,311,765      100.00\n"
     ]
    }
   ],
   "source": [
    "use nlms6.dta, clear\n",
    "tab refyear"
   ]
  },
  {
   "cell_type": "markdown",
   "metadata": {},
   "source": [
    "From the manual:\n",
    "\n",
    "> <h1>Design and Content of the NLMS PUMS Files</h1> <br>\n",
    "There are three file formats in the NLMS PUM: \n",
    "•\tone 11-year follow up file, File 11\n",
    "•\tThree 6-year follow up files, Files 6a, 6b, 6c\n",
    "•\tOne tobacco-use follow up file, File tu.\n",
    "<br><br>The 11-year  follow up file consists of a subset of the 39 NLMS cohorts included in the full NLMS that can be followed prospectively for 11 years. The content of each record on the file includes demographic and socioeconomic variables combined with a mortality outcome, if there is one. To prevent disclosure, all of the File 11 records have been concatenated into a single file and the temporal dimension has been altered. In lieu of identifying the CPS year and starting point of mortality follow-up for each file, all of the records in File 11 have been assigned an imaginary starting point conceptually identified as April 1, 1990. These records are then tracked forward for 11 years to observe whether person in the file has died. This approach results in a maximum of 4018 days of follow up for this cohort.\n",
    "<br><br>\n",
    "<b>For those who have died, the underlying cause of death and follow-up time until death have been provided. For those not deceased by the end of 4018 days follow-up period, the follow-up time provided is the full observation length, 4018 days or 11 years.</b> In the construction of File 11, it was assumed that these surveys, collected from throughout the 1980s and 1990s, would adequately reflect the U.S. non-institutionalized population on April 1, 1990. Under this assumption, the separate CPS samples have been combined and can be viewed as one large sample taken on that date. Original weights were re-calculated to reflect the size of the U.S. non-institutionalized population at that time.\n",
    "<br><br>\n",
    "The second PUMS format actually describes three files, divided according to whether the original CPS surveys were taken in the early 1980s, File 6a, early 1990s, File 6b, or early 2000s for File 6c. All of these three files have a maximum follow-up duration of six years. The weights on these three files were set to represent the size of the U.S. non-institutionalized population on <b>April 1, 1983</b> for File 6a, <b>April 1, 1993</b> for File 6b, and <b>April 1, 2002</b> for File 6c. Otherwise, they are identical in variable content to PUMS File 11, except for the shorter follow-up time.\n",
    "<br><br>\n",
    "The third PUMS format is Tobacco-use file, tu. To construct this file, ASEC samples from1993 through 2005 containing tobacco-use supplement information were combined into one file and considered to be one sample for the non-institutionalized population of the U.S. The maximum follow-up time for records in this file is 5 years. The approximate target date for this sample would be April 1, 2000. With exceptions on levels of urban/rural and SMSA status, this file consists of the same variables as in the other public files in this release but also includes variables on cigarette use and the use of other forms of tobacco.\n",
    "<br><br>\n",
    "This release of the NLMS PUMS is an extension of the previous four releases. It includes additional records and variables, and provides a third six-year follow-up file and a tobacco use file. Record identifying variables such as Record ID and HHI are unique for these PUMS files and not related to corresponding numbers in other NLMS files.\n"
   ]
  },
  {
   "cell_type": "markdown",
   "metadata": {},
   "source": [
    "Hence with\n",
    "> gen date1 = mdy(4, 1, refyear) + follow\n",
    "\n",
    "I created a edate of the approximate date of death. Though this might not be the most precise approach, it is likely to be sufficient to estimate the year of death.\n",
    "\n",
    "Keep in mind that the sample is fabricated. It ought to represent the population on the dates given, yet the survey might have taken place before or after."
   ]
  },
  {
   "cell_type": "code",
   "execution_count": 139,
   "metadata": {
    "scrolled": false
   },
   "outputs": [
    {
     "name": "stdout",
     "output_type": "stream",
     "text": [
      "\n",
      "\n",
      "\n",
      "\n",
      "           |        inddea\n",
      "   refyear |     alive       dead |     Total\n",
      "-----------+----------------------+----------\n",
      "      1983 |   993,789     46,930 | 1,040,719 \n",
      "      1993 |   499,914     25,970 |   525,884 \n",
      "      2002 |   720,729     24,433 |   745,162 \n",
      "-----------+----------------------+----------\n",
      "     Total | 2,214,432     97,333 | 2,311,765 \n"
     ]
    }
   ],
   "source": [
    "label define inddea 0 \"alive\" 1 \"dead\"\n",
    "label value inddea inddea\n",
    "tab refyear inddea"
   ]
  },
  {
   "cell_type": "code",
   "execution_count": 140,
   "metadata": {},
   "outputs": [],
   "source": [
    "gen yr = year(date1)"
   ]
  },
  {
   "cell_type": "code",
   "execution_count": 141,
   "metadata": {},
   "outputs": [
    {
     "name": "stdout",
     "output_type": "stream",
     "text": [
      "\n",
      "         yr |      Freq.     Percent        Cum.\n",
      "------------+-----------------------------------\n",
      "       1983 |      5,087        0.22        0.22\n",
      "       1984 |      7,530        0.33        0.55\n",
      "       1985 |      7,557        0.33        0.87\n",
      "       1986 |      7,947        0.34        1.22\n",
      "       1987 |      8,239        0.36        1.57\n",
      "       1988 |      8,382        0.36        1.94\n",
      "       1989 |    995,977       43.08       45.02\n",
      "       1993 |      2,701        0.12       45.14\n",
      "       1994 |      4,025        0.17       45.31\n",
      "       1995 |      4,208        0.18       45.49\n",
      "       1996 |      4,411        0.19       45.68\n",
      "       1997 |      4,563        0.20       45.88\n",
      "       1998 |      4,706        0.20       46.08\n",
      "       1999 |    501,270       21.68       67.77\n",
      "       2002 |      2,842        0.12       67.89\n",
      "       2003 |      4,050        0.18       68.06\n",
      "       2004 |      4,277        0.19       68.25\n",
      "       2005 |      3,982        0.17       68.42\n",
      "       2006 |      4,083        0.18       68.60\n",
      "       2007 |      4,054        0.18       68.77\n",
      "       2008 |    721,874       31.23      100.00\n",
      "------------+-----------------------------------\n",
      "      Total |  2,311,765      100.00\n"
     ]
    }
   ],
   "source": [
    "tab yr"
   ]
  },
  {
   "cell_type": "markdown",
   "metadata": {
    "scrolled": true
   },
   "source": [
    "I am not interested in the exact mortality per year, but rather in the share of deaths by employment status."
   ]
  },
  {
   "cell_type": "code",
   "execution_count": 142,
   "metadata": {
    "scrolled": true
   },
   "outputs": [
    {
     "name": "stdout",
     "output_type": "stream",
     "text": [
      "(2,215,356 observations deleted)\n"
     ]
    }
   ],
   "source": [
    "keep if age >= 15 & inddea == 1"
   ]
  },
  {
   "cell_type": "code",
   "execution_count": 143,
   "metadata": {
    "scrolled": true
   },
   "outputs": [
    {
     "name": "stdout",
     "output_type": "stream",
     "text": [
      "\n",
      "         yr |      Freq.     Percent        Cum.\n",
      "------------+-----------------------------------\n",
      "       1983 |      5,019        5.21        5.21\n",
      "       1984 |      7,460        7.74       12.94\n",
      "       1985 |      7,507        7.79       20.73\n",
      "       1986 |      7,891        8.18       28.92\n",
      "       1987 |      8,182        8.49       37.40\n",
      "       1988 |      8,307        8.62       46.02\n",
      "       1989 |      2,161        2.24       48.26\n",
      "       1993 |      2,691        2.79       51.05\n",
      "       1994 |      4,009        4.16       55.21\n",
      "       1995 |      4,186        4.34       59.55\n",
      "       1996 |      4,399        4.56       64.11\n",
      "       1997 |      4,552        4.72       68.84\n",
      "       1998 |      4,691        4.87       73.70\n",
      "       1999 |      1,353        1.40       75.11\n",
      "       2002 |      2,757        2.86       77.96\n",
      "       2003 |      3,939        4.09       82.05\n",
      "       2004 |      4,154        4.31       86.36\n",
      "       2005 |      3,948        4.10       90.45\n",
      "       2006 |      4,041        4.19       94.65\n",
      "       2007 |      4,021        4.17       98.82\n",
      "       2008 |      1,141        1.18      100.00\n",
      "------------+-----------------------------------\n",
      "      Total |     96,409      100.00\n"
     ]
    }
   ],
   "source": [
    "tab yr"
   ]
  },
  {
   "cell_type": "code",
   "execution_count": 144,
   "metadata": {
    "scrolled": true
   },
   "outputs": [
    {
     "name": "stdout",
     "output_type": "stream",
     "text": [
      "\n",
      "\n",
      "\n",
      "\n",
      "                                    esr |      Freq.     Percent        Cum.\n",
      "----------------------------------------+-----------------------------------\n",
      "           In the labor force, employed |     18,258       18.96       18.96\n",
      "   In the labor force, absent from work |      1,723        1.79       20.74\n",
      "In the labor force, unemployed, looking |      1,487        1.54       22.29\n",
      "Not in the labor force, disabled, unabl |      9,728       10.10       32.39\n",
      "Not in the labor force, retired, other  |     65,124       67.61      100.00\n",
      "----------------------------------------+-----------------------------------\n",
      "                                  Total |     96,320      100.00\n"
     ]
    }
   ],
   "source": [
    "label define esr .m \"Children LE 13, Armed Forces, missing\" 1 \"In the labor force, employed\" 2 \"In the labor force, absent from work\" 3 \"In the labor force, unemployed, looking for work\" 4 \"Not in the labor force, disabled, unable to work\" 5 \"Not in the labor force, retired, other (housekeeping, student, etc.)\"\n",
    "label value esr esr\n",
    "tab esr"
   ]
  },
  {
   "cell_type": "code",
   "execution_count": 150,
   "metadata": {
    "scrolled": true
   },
   "outputs": [
    {
     "name": "stdout",
     "output_type": "stream",
     "text": [
      "(78062 differences between esr and lfs)\n"
     ]
    }
   ],
   "source": [
    "recode esr (.m = .m) (1 2 = 1) (3 = 2) (4 5 = 3), gen(lfs)"
   ]
  },
  {
   "cell_type": "code",
   "execution_count": 154,
   "metadata": {},
   "outputs": [],
   "source": [
    "label define lfs 1 \"E\" 2 \"U\" 3 \"N\"\n",
    "label values lfs lfs"
   ]
  },
  {
   "cell_type": "code",
   "execution_count": 157,
   "metadata": {},
   "outputs": [
    {
     "name": "stdout",
     "output_type": "stream",
     "text": [
      "\n",
      "  RECODE of |\n",
      "        esr |      Freq.     Percent        Cum.\n",
      "------------+-----------------------------------\n",
      "          E |     19,981       20.74       20.74\n",
      "          U |      1,487        1.54       22.29\n",
      "          N |     74,852       77.71      100.00\n",
      "------------+-----------------------------------\n",
      "      Total |     96,320      100.00\n"
     ]
    }
   ],
   "source": [
    "tab lfs"
   ]
  },
  {
   "cell_type": "code",
   "execution_count": 158,
   "metadata": {
    "scrolled": false
   },
   "outputs": [],
   "source": [
    "collapse (sum) lfs deaths = inddea [fweight=wt], by(yr)"
   ]
  },
  {
   "cell_type": "code",
   "execution_count": 159,
   "metadata": {},
   "outputs": [
    {
     "name": "stdout",
     "output_type": "stream",
     "text": [
      "file deats_emp.dta saved\n"
     ]
    }
   ],
   "source": [
    "save deats_emp.dta, replace"
   ]
  }
 ],
 "metadata": {
  "kernelspec": {
   "display_name": "Stata",
   "language": "stata",
   "name": "stata"
  },
  "language_info": {
   "codemirror_mode": "stata",
   "file_extension": ".do",
   "mimetype": "text/x-stata",
   "name": "stata",
   "version": "15.1"
  }
 },
 "nbformat": 4,
 "nbformat_minor": 4
}
